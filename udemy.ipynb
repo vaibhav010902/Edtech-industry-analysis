{
 "cells": [
  {
   "cell_type": "code",
   "execution_count": 73,
   "metadata": {},
   "outputs": [],
   "source": [
    "import pandas as pd\n",
    "import numpy as np\n",
    "import csv\n",
    "udemy_files = pd.read_csv(\"Udemy.csv\")"
   ]
  },
  {
   "cell_type": "code",
   "execution_count": 74,
   "metadata": {},
   "outputs": [],
   "source": [
    "udemy_files['Category'] = \"NULL\"\n",
    "def putvalue(search,replace,condition1=False,condition2=False):\n",
    "    udemy_files['Category'] = np.where(udemy_files['title'].str.contains(search,case=condition1,na=condition2),replace,udemy_files['Category'])"
   ]
  },
  {
   "cell_type": "code",
   "execution_count": 75,
   "metadata": {},
   "outputs": [],
   "source": [
    "putvalue('programming|coding','Programming')\n",
    "putvalue('python|C#|java','Programming')\n",
    "putvalue('nodejs|node-js','NodeJS')\n",
    "putvalue('SQL|MYSQL|MySQL|Database|database','Database')\n",
    "putvalue('data structure','Data Structures')\n",
    "putvalue('machinelearning|machine learning','Machine Learning')\n",
    "putvalue('game developer|game development|game|games','Game Development')\n",
    "putvalue('englishspeaking|english speaking','English Speaking')\n",
    "putvalue('deeplearning|Deep Learning','Deep Learning')\n",
    "putvalue('ethicalhack|ethical hack','Ethical Hacking')\n",
    "putvalue('excel','Excel')\n",
    "putvalue('NPL|Natural Processing Language','Natural Processing Language')\n",
    "putvalue('framework','Framework')\n",
    "putvalue('mern','MERN')\n",
    "putvalue('nodejs|django|express|meteorjs|flask|ruby|php|perl','Back-End Developer')\n",
    "putvalue('react|angular|jquery|swift','Front-End Development')\n",
    "putvalue('shell scripting|scripting|shell','Shell Scripting')\n",
    "putvalue('UI|UX','UI/UX Design',True)\n",
    "putvalue('GUI','GUI Design',True)\n"
   ]
  },
  {
   "cell_type": "code",
   "execution_count": 76,
   "metadata": {},
   "outputs": [
    {
     "data": {
      "text/plain": [
       "'Deep Learning'"
      ]
     },
     "execution_count": 76,
     "metadata": {},
     "output_type": "execute_result"
    }
   ],
   "source": [
    "putvalue('AI|Artificial Intelligence','AI',True)\n",
    "putvalue('software developer|software development','software Developer')\n",
    "putvalue('software engineer','Software Engineer')\n",
    "putvalue('data engineer','Data Engineer')\n",
    "putvalue('HTML|CSS|web developer|web-developer|web development','Web Development')\n",
    "putvalue('data science','Data Science')\n",
    "putvalue('data analytic|data analytics|data analysis','Data Analytics')\n",
    "udemy_files.iloc[60:90]['Category']\n",
    "udemy_files.iloc[540]['Category']"
   ]
  },
  {
   "cell_type": "code",
   "execution_count": null,
   "metadata": {},
   "outputs": [
    {
     "name": "stdout",
     "output_type": "stream",
     "text": [
      "8120\n"
     ]
    }
   ],
   "source": [
    "count =0 \n",
    "for i in udemy_files['Category']:\n",
    "    if i!='NULL':\n",
    "        count+=1\n",
    "print(count)\n",
    "# udemy_files['Category'].isnull().sum"
   ]
  },
  {
   "cell_type": "code",
   "execution_count": 78,
   "metadata": {},
   "outputs": [],
   "source": [
    "udemy_files = udemy_files[udemy_files['Category']!=\"NULL\"]\n",
    "# udemy_files['Duration'] = 'NULL'\n",
    "# udemy_files['duration'] = udemy_files['duration'].replace('total hours','',inplace=True)\n",
    "# print(udemy_files['duration'])\n",
    "udemy_files['duration'] = udemy_files['duration'].str.replace('total hours', '', regex=False)\n",
    "udemy_files['duration'] = udemy_files['duration'].str.replace('total hour','',regex=False)"
   ]
  },
  {
   "cell_type": "code",
   "execution_count": 79,
   "metadata": {},
   "outputs": [
    {
     "name": "stdout",
     "output_type": "stream",
     "text": [
      "Data exported to Udemy_updated.csv\n"
     ]
    }
   ],
   "source": [
    "# output_file_path = \"udemy_updated.csv\"\n",
    "# udemy_files.to_csv(output_file_path, index=False)\n",
    "# print(f\"Data exported to {output_file_path}\")\n",
    "output_file_path = \"Udemy_updated.csv\"\n",
    "udemy_files.to_csv(output_file_path,index=False)\n",
    "print(f\"Data exported to {output_file_path}\")"
   ]
  }
 ],
 "metadata": {
  "kernelspec": {
   "display_name": "Python 3",
   "language": "python",
   "name": "python3"
  },
  "language_info": {
   "codemirror_mode": {
    "name": "ipython",
    "version": 3
   },
   "file_extension": ".py",
   "mimetype": "text/x-python",
   "name": "python",
   "nbconvert_exporter": "python",
   "pygments_lexer": "ipython3",
   "version": "3.11.3"
  }
 },
 "nbformat": 4,
 "nbformat_minor": 2
}
