{
 "cells": [
  {
   "cell_type": "code",
   "execution_count": 231,
   "metadata": {},
   "outputs": [],
   "source": [
    "import pandas as pd\n",
    "import numpy as np\n",
    "import csv\n",
    "coursera_file = pd.read_csv(\"Coursera.csv\")"
   ]
  },
  {
   "cell_type": "code",
   "execution_count": 232,
   "metadata": {},
   "outputs": [],
   "source": [
    "def putvalue(search,replace):\n",
    "    coursera_file['Category'] = np.where(coursera_file['course'].str.contains(search,case=False,na=False),replace,coursera_file['Category'])"
   ]
  },
  {
   "cell_type": "code",
   "execution_count": 233,
   "metadata": {},
   "outputs": [],
   "source": [
    "coursera_file['Category'] = \"NULL\"\n",
    "coursera_file['Category'] = np.where(coursera_file['course'].str.contains('python|java|C#|coding|programming',case=False,na=False),'Programming',coursera_file['Category'])\n",
    "# coursera_file['Category'] = np.where(coursera_file['course'].str.contains('C    |C++',case=True,na=False),'Programming',coursera_file['Category'])"
   ]
  },
  {
   "cell_type": "code",
   "execution_count": 234,
   "metadata": {},
   "outputs": [],
   "source": [
    "putvalue('analysis|analytic','Analytic')\n",
    "putvalue('excel','Excel')"
   ]
  },
  {
   "cell_type": "code",
   "execution_count": 235,
   "metadata": {},
   "outputs": [],
   "source": [
    "\n",
    "coursera_file['Category'] = np.where(coursera_file['course'].str.contains('data analytics|data analytic|data analyst|data analysis',case=False,na=False),'Data Analytics',coursera_file['Category'])"
   ]
  },
  {
   "cell_type": "code",
   "execution_count": 236,
   "metadata": {},
   "outputs": [],
   "source": [
    "coursera_file['Category'] = np.where(coursera_file['course'].str.contains('data science|datascience',case=False,na=False),'Data Science',coursera_file['Category'])"
   ]
  },
  {
   "cell_type": "code",
   "execution_count": 237,
   "metadata": {},
   "outputs": [],
   "source": [
    "coursera_file['Category'] = np.where(coursera_file['course'].str.contains('cybersecurity|cyber security',case=False,na=False),'Cyber Security',coursera_file['Category'])"
   ]
  },
  {
   "cell_type": "code",
   "execution_count": 238,
   "metadata": {},
   "outputs": [],
   "source": [
    "coursera_file['Category'] = np.where(coursera_file['course'].str.contains('cloud',case=False,na=False),'Cloud Computing',coursera_file['Category'])"
   ]
  },
  {
   "cell_type": "code",
   "execution_count": 239,
   "metadata": {},
   "outputs": [],
   "source": [
    "coursera_file['Category'] = np.where(coursera_file['course'].str.contains('AI',case=True,na=False),'AI',coursera_file['Category'])"
   ]
  },
  {
   "cell_type": "code",
   "execution_count": 240,
   "metadata": {},
   "outputs": [],
   "source": [
    "coursera_file['Category'] = np.where(coursera_file['course'].str.contains('database',case=False,na=False),'Database',coursera_file['Category'])"
   ]
  },
  {
   "cell_type": "code",
   "execution_count": 241,
   "metadata": {},
   "outputs": [],
   "source": [
    "coursera_file['Category'] = np.where(coursera_file['course'].str.contains('marketing|market|markets',case=False,na=False),'Marketing',coursera_file['Category'])"
   ]
  },
  {
   "cell_type": "code",
   "execution_count": 242,
   "metadata": {},
   "outputs": [],
   "source": [
    "coursera_file['Category'] = np.where(coursera_file['course'].str.contains('UX',case=True,na=False),'UX Design',coursera_file['Category'])"
   ]
  },
  {
   "cell_type": "code",
   "execution_count": 243,
   "metadata": {},
   "outputs": [],
   "source": [
    "coursera_file['Category'] = np.where(coursera_file['course'].str.contains('UI',case=True,na=False),'UI Design',coursera_file['Category'])"
   ]
  },
  {
   "cell_type": "code",
   "execution_count": 244,
   "metadata": {},
   "outputs": [],
   "source": [
    "coursera_file['Category'] = np.where(coursera_file['course'].str.contains('data structure',case=False,na=False),'Data Structure',coursera_file['Category'])"
   ]
  },
  {
   "cell_type": "code",
   "execution_count": 245,
   "metadata": {},
   "outputs": [],
   "source": [
    "coursera_file['Category'] = np.where(coursera_file['course'].str.contains('software developer',case=False,na=False),'Software Developer',coursera_file['Category'])"
   ]
  },
  {
   "cell_type": "code",
   "execution_count": 246,
   "metadata": {},
   "outputs": [],
   "source": [
    "coursera_file['Category'] = np.where(coursera_file['course'].str.contains('software engineer',case=False,na=False),'Software Engineer',coursera_file['Category'])"
   ]
  },
  {
   "cell_type": "code",
   "execution_count": 247,
   "metadata": {},
   "outputs": [],
   "source": [
    "coursera_file['Category'] = np.where(coursera_file['course'].str.contains('management',case=False,na=False),'Management',coursera_file['Category'])"
   ]
  },
  {
   "cell_type": "code",
   "execution_count": 248,
   "metadata": {},
   "outputs": [],
   "source": [
    "coursera_file['Category'] = np.where(coursera_file['course'].str.contains('deep learning|deeplearning ',case=False,na=False),'Deep Learning',coursera_file['Category'])"
   ]
  },
  {
   "cell_type": "code",
   "execution_count": 249,
   "metadata": {},
   "outputs": [],
   "source": [
    "coursera_file['Category'] = np.where(coursera_file['course'].str.contains('backend developer|back-end developer',case=False,na=False),'Back-End Developer',coursera_file['Category'])"
   ]
  },
  {
   "cell_type": "code",
   "execution_count": 250,
   "metadata": {},
   "outputs": [],
   "source": [
    "coursera_file['Category'] = np.where(coursera_file['course'].str.contains('machinelearing|machine learning',case=False,na=False),'Machine Learning',coursera_file['Category'])"
   ]
  },
  {
   "cell_type": "code",
   "execution_count": 251,
   "metadata": {},
   "outputs": [],
   "source": [
    "coursera_file['Category'] = np.where(coursera_file['course'].str.contains('data visualization',case=False,na=False),'Data Visualization',coursera_file['Category'])"
   ]
  },
  {
   "cell_type": "code",
   "execution_count": 252,
   "metadata": {},
   "outputs": [],
   "source": [
    "coursera_file['Category'] = np.where(coursera_file['course'].str.contains('business analytic|business analytics|business analysis',case=False,na=False),'Business Analytics',coursera_file['Category'])"
   ]
  },
  {
   "cell_type": "code",
   "execution_count": 253,
   "metadata": {},
   "outputs": [],
   "source": [
    "coursera_file['Category'] = np.where(coursera_file['course'].str.contains('networking',case=False,na=False),'Networking',coursera_file['Category'])"
   ]
  },
  {
   "cell_type": "code",
   "execution_count": 254,
   "metadata": {},
   "outputs": [],
   "source": [
    "coursera_file['Category'] = np.where(coursera_file['course'].str.contains('frontend developer|front-end developer|frontend development|front-end development',case=False,na=False),'Front-End Developer',coursera_file['Category'])"
   ]
  },
  {
   "cell_type": "code",
   "execution_count": 255,
   "metadata": {},
   "outputs": [],
   "source": [
    "coursera_file['Category'] = np.where(coursera_file['course'].str.contains('it support',case=False,na=False),'IT Support',coursera_file['Category'])"
   ]
  },
  {
   "cell_type": "code",
   "execution_count": 256,
   "metadata": {},
   "outputs": [],
   "source": [
    "coursera_file['Category'] = np.where(coursera_file['course'].str.contains('power bi',case=False,na=False),'Data Analytics',coursera_file['Category'])"
   ]
  },
  {
   "cell_type": "code",
   "execution_count": 257,
   "metadata": {},
   "outputs": [],
   "source": [
    "coursera_file['Category'] = np.where(coursera_file['course'].str.contains('fullstack developer|full-stack developer',case=False,na=False),'Full-Stack Developer',coursera_file['Category'])"
   ]
  },
  {
   "cell_type": "code",
   "execution_count": 258,
   "metadata": {},
   "outputs": [
    {
     "name": "stdout",
     "output_type": "stream",
     "text": [
      "0      16400.0\n",
      "1     133400.0\n",
      "2      97300.0\n",
      "3      21400.0\n",
      "4     181400.0\n",
      "5     118900.0\n",
      "6      73700.0\n",
      "7      71500.0\n",
      "8      17700.0\n",
      "9      85000.0\n",
      "10    188000.0\n",
      "11     43200.0\n",
      "12     41200.0\n",
      "13     81500.0\n",
      "14     59200.0\n",
      "15     29700.0\n",
      "16     46200.0\n",
      "17     19900.0\n",
      "18     19300.0\n",
      "19    141500.0\n",
      "20     77200.0\n",
      "21     45100.0\n",
      "22     36700.0\n",
      "23     48500.0\n",
      "24     46200.0\n",
      "25     59000.0\n",
      "Name: No. of Student, dtype: float64\n"
     ]
    }
   ],
   "source": [
    "putvalue('corporate finance','Finance')\n",
    "putvalue('data engineer','Data Engineer')\n",
    "coursera_file['No. of Student'] = coursera_file['No. of Student'].str.replace('k','',regex=False)\n",
    "coursera_file['No. of Student']=coursera_file['No. of Student'].astype(float)\n",
    "coursera_file['No. of Student'] = coursera_file['No. of Student']*1000\n",
    "# coursera_file['No. of Student']=coursera_file['No. of Student'].astype(int)\n",
    "print(coursera_file.iloc[0:26]['No. of Student'])"
   ]
  },
  {
   "cell_type": "code",
   "execution_count": 259,
   "metadata": {},
   "outputs": [
    {
     "name": "stdout",
     "output_type": "stream",
     "text": [
      "0      16400.0\n",
      "1     133400.0\n",
      "2      97300.0\n",
      "3      21400.0\n",
      "4     181400.0\n",
      "5     118900.0\n",
      "6      73700.0\n",
      "7      71500.0\n",
      "8      17700.0\n",
      "9      85000.0\n",
      "10    188000.0\n",
      "11     43200.0\n",
      "12     41200.0\n",
      "13     81500.0\n",
      "14     59200.0\n",
      "15     29700.0\n",
      "16     46200.0\n",
      "17     19900.0\n",
      "18     19300.0\n",
      "19    141500.0\n",
      "20     77200.0\n",
      "21     45100.0\n",
      "22     36700.0\n",
      "23     48500.0\n",
      "24     46200.0\n",
      "25     59000.0\n",
      "Name: No. of Student, dtype: float64\n",
      "Finance\n"
     ]
    }
   ],
   "source": [
    "print(coursera_file.iloc[0:26]['No. of Student'])\n",
    "print(coursera_file.iloc[516]['Category'])"
   ]
  },
  {
   "cell_type": "code",
   "execution_count": 260,
   "metadata": {},
   "outputs": [
    {
     "name": "stdout",
     "output_type": "stream",
     "text": [
      "0\n"
     ]
    }
   ],
   "source": [
    "count = 0\n",
    "coursera_file = coursera_file[coursera_file['Category'] != \"NULL\"]\n",
    "print(count)"
   ]
  },
  {
   "cell_type": "code",
   "execution_count": null,
   "metadata": {},
   "outputs": [],
   "source": []
  },
  {
   "cell_type": "code",
   "execution_count": 261,
   "metadata": {},
   "outputs": [
    {
     "name": "stdout",
     "output_type": "stream",
     "text": [
      "Data exported to Coursera_Updated.csv\n"
     ]
    }
   ],
   "source": [
    "output_file_path = \"Coursera_Updated.csv\"\n",
    "coursera_file.to_csv(output_file_path, index=False)\n",
    "print(f\"Data exported to {output_file_path}\")\n"
   ]
  },
  {
   "cell_type": "code",
   "execution_count": null,
   "metadata": {},
   "outputs": [],
   "source": []
  }
 ],
 "metadata": {
  "kernelspec": {
   "display_name": "Python 3",
   "language": "python",
   "name": "python3"
  },
  "language_info": {
   "codemirror_mode": {
    "name": "ipython",
    "version": 3
   },
   "file_extension": ".py",
   "mimetype": "text/x-python",
   "name": "python",
   "nbconvert_exporter": "python",
   "pygments_lexer": "ipython3",
   "version": "3.11.3"
  }
 },
 "nbformat": 4,
 "nbformat_minor": 2
}
